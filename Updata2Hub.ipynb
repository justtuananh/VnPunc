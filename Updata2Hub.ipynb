{
 "cells": [
  {
   "cell_type": "code",
   "execution_count": 15,
   "id": "a009c74d",
   "metadata": {},
   "outputs": [
    {
     "name": "stdout",
     "output_type": "stream",
     "text": [
      "Collecting huggingface_hub\n",
      "  Downloading huggingface_hub-0.10.0-py3-none-any.whl (163 kB)\n",
      "Requirement already satisfied: tqdm in c:\\users\\tuana\\anaconda3\\lib\\site-packages (from huggingface_hub) (4.64.0)\n",
      "Requirement already satisfied: filelock in c:\\users\\tuana\\anaconda3\\lib\\site-packages (from huggingface_hub) (3.6.0)\n",
      "Requirement already satisfied: requests in c:\\users\\tuana\\anaconda3\\lib\\site-packages (from huggingface_hub) (2.27.1)\n",
      "Requirement already satisfied: packaging>=20.9 in c:\\users\\tuana\\anaconda3\\lib\\site-packages (from huggingface_hub) (21.3)\n",
      "Requirement already satisfied: pyyaml>=5.1 in c:\\users\\tuana\\anaconda3\\lib\\site-packages (from huggingface_hub) (6.0)\n",
      "Requirement already satisfied: typing-extensions>=3.7.4.3 in c:\\users\\tuana\\anaconda3\\lib\\site-packages (from huggingface_hub) (4.1.1)\n",
      "Requirement already satisfied: pyparsing!=3.0.5,>=2.0.2 in c:\\users\\tuana\\anaconda3\\lib\\site-packages (from packaging>=20.9->huggingface_hub) (3.0.4)\n",
      "Requirement already satisfied: charset-normalizer~=2.0.0 in c:\\users\\tuana\\anaconda3\\lib\\site-packages (from requests->huggingface_hub) (2.0.4)\n",
      "Requirement already satisfied: idna<4,>=2.5 in c:\\users\\tuana\\anaconda3\\lib\\site-packages (from requests->huggingface_hub) (3.3)\n",
      "Requirement already satisfied: urllib3<1.27,>=1.21.1 in c:\\users\\tuana\\anaconda3\\lib\\site-packages (from requests->huggingface_hub) (1.26.9)\n",
      "Requirement already satisfied: certifi>=2017.4.17 in c:\\users\\tuana\\anaconda3\\lib\\site-packages (from requests->huggingface_hub) (2021.10.8)\n",
      "Requirement already satisfied: colorama in c:\\users\\tuana\\anaconda3\\lib\\site-packages (from tqdm->huggingface_hub) (0.4.4)\n",
      "Installing collected packages: huggingface-hub\n",
      "Successfully installed huggingface-hub-0.10.0\n"
     ]
    }
   ],
   "source": [
    "!pip install huggingface_hub"
   ]
  },
  {
   "cell_type": "code",
   "execution_count": 16,
   "id": "18efa81c",
   "metadata": {},
   "outputs": [],
   "source": [
    "from huggingface_hub import notebook_login"
   ]
  },
  {
   "cell_type": "code",
   "execution_count": 17,
   "id": "1ea67246",
   "metadata": {},
   "outputs": [
    {
     "name": "stdout",
     "output_type": "stream",
     "text": [
      "Login successful\n",
      "Your token has been saved to C:\\Users\\tuana\\.huggingface\\token\n",
      "\u001b[1m\u001b[31mAuthenticated through git-credential store but this isn't the helper defined on your machine.\n",
      "You might have to re-authenticate when pushing to the Hugging Face Hub. Run the following command in your terminal in case you want to set this credential helper as the default\n",
      "\n",
      "git config --global credential.helper store\u001b[0m\n"
     ]
    }
   ],
   "source": [
    "notebook_login()"
   ]
  },
  {
   "cell_type": "code",
   "execution_count": 18,
   "id": "be533ab0",
   "metadata": {},
   "outputs": [],
   "source": [
    "from huggingface_hub import HfApi \n",
    "api = HfApi()"
   ]
  },
  {
   "cell_type": "code",
   "execution_count": 25,
   "id": "b05b2784",
   "metadata": {},
   "outputs": [],
   "source": [
    "from huggingface_hub import HfApi, CommitOperationAdd, CommitOperationDelete\n",
    "api = HfApi()\n",
    "operations = [\n",
    "    CommitOperationAdd(path_in_repo=\"added_tokens.json\", path_or_fileobj=\"E:\\\\ML-AI\\\\VNpunc\\\\out_ner\\\\config.json\"),\n",
    "    CommitOperationAdd(path_in_repo=\"added_tokens.json\", path_or_fileobj=\"E:\\\\ML-AI\\\\VNpunc\\\\out_ner\\\\eval_results.txt\"),\n",
    "    CommitOperationAdd(path_in_repo=\"added_tokens.json\", path_or_fileobj=\"E:\\\\ML-AI\\\\VNpunc\\\\out_ner\\\\model_config.json\"),\n",
    "    CommitOperationAdd(path_in_repo=\"added_tokens.json\", path_or_fileobj=\"E:\\\\ML-AI\\\\VNpunc\\\\out_ner\\\\pytorch_model.bin\"),\n",
    "    CommitOperationAdd(path_in_repo=\"added_tokens.json\", path_or_fileobj=\"E:\\\\ML-AI\\\\VNpunc\\\\out_ner\\\\special_tokens_map.json\"),\n",
    "    CommitOperationAdd(path_in_repo=\"added_tokens.json\", path_or_fileobj=\"E:\\\\ML-AI\\\\VNpunc\\\\out_ner\\\\tokenizer_config.json\"),\n",
    "    CommitOperationAdd(path_in_repo=\"added_tokens.json\", path_or_fileobj=\"E:\\\\ML-AI\\\\VNpunc\\\\out_ner\\\\vocab.txt\"),\n",
    "    CommitOperationAdd(path_in_repo=\"added_tokens.json\", path_or_fileobj=\"E:\\\\ML-AI\\\\VNpunc\\\\out_ner\\\\added_tokens.json\")\n",
    "]"
   ]
  },
  {
   "cell_type": "code",
   "execution_count": null,
   "id": "beb88504",
   "metadata": {},
   "outputs": [],
   "source": [
    "api.create_commit(\n",
    "    repo_id=\"tuananh18/VietnamesePunctuation\",\n",
    "    operations=operations,\n",
    "    commit_message=\"update new model\",\n",
    ")"
   ]
  }
 ],
 "metadata": {
  "kernelspec": {
   "display_name": "Python 3 (ipykernel)",
   "language": "python",
   "name": "python3"
  },
  "language_info": {
   "codemirror_mode": {
    "name": "ipython",
    "version": 3
   },
   "file_extension": ".py",
   "mimetype": "text/x-python",
   "name": "python",
   "nbconvert_exporter": "python",
   "pygments_lexer": "ipython3",
   "version": "3.9.12"
  }
 },
 "nbformat": 4,
 "nbformat_minor": 5
}
